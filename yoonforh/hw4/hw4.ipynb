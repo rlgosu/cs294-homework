{
 "cells": [
  {
   "cell_type": "markdown",
   "metadata": {},
   "source": [
    "# HW4 Model-based Reinforcement Learning"
   ]
  },
  {
   "cell_type": "code",
   "execution_count": null,
   "metadata": {},
   "outputs": [],
   "source": [
    "import sys, os\n",
    "import tensorflow as tf\n",
    "import datetime as dt\n",
    "\n",
    "os.environ['CUDA_VISIBLE_DEVICES'] = '1' # 0 is default GPU\n",
    "\n",
    "print(tf.__version__)\n",
    "\n",
    "from tensorflow.python.client import device_lib\n",
    "\n",
    "local_device_protos = device_lib.list_local_devices()\n",
    "\n",
    "print(local_device_protos)\n",
    "print(tf.test.is_gpu_available())\n",
    "print(tf.test.gpu_device_name())"
   ]
  },
  {
   "cell_type": "code",
   "execution_count": null,
   "metadata": {},
   "outputs": [],
   "source": [
    "# main.py\n",
    "\n",
    "import os\n",
    "import argparse\n",
    "import time\n",
    "import numpy as np\n",
    "\n",
    "from half_cheetah_env import HalfCheetahEnv\n",
    "from logger import logger, LoggerClass\n",
    "from model_based_rl import ModelBasedRL\n",
    "from model_based_rl import logger as model_logger\n",
    "from collections import defaultdict\n",
    "\n",
    "def run_mbrl() :\n",
    "    parser = argparse.ArgumentParser()\n",
    "    parser.add_argument('question', type=str, choices=('q1, q2, q3'))\n",
    "    parser.add_argument('--exp_name', type=str, default=None)\n",
    "    parser.add_argument('--env', type=str, default='HalfCheetah', choices=('HalfCheetah',))\n",
    "    parser.add_argument('--render', action='store_true')\n",
    "    parser.add_argument('--mpc_horizon', type=int, default=15)\n",
    "    parser.add_argument('--num_random_action_selection', type=int, default=4096)\n",
    "    parser.add_argument('--nn_layers', type=int, default=1)\n",
    "    args = parser.parse_args()\n",
    "\n",
    "    data_dir = os.path.join(os.getcwd(), 'data')\n",
    "    exp_name = '{0}_{1}_{2}'.format(args.env,\n",
    "                                    args.question,\n",
    "                                    args.exp_name if args.exp_name else time.strftime(\"%d-%m-%Y_%H-%M-%S\"))\n",
    "    exp_dir = os.path.join(data_dir, exp_name)\n",
    "    assert not os.path.exists(exp_dir),\\\n",
    "        'Experiment directory {0} already exists. Either delete the directory, or run the experiment with a different name'.format(exp_dir)\n",
    "    os.makedirs(exp_dir, exist_ok=True)\n",
    "\n",
    "    logger.setup(exp_name, os.path.join(exp_dir, 'log.txt'), 'debug')\n",
    "\n",
    "    env = {\n",
    "        'HalfCheetah': HalfCheetahEnv()\n",
    "    }[args.env]\n",
    "\n",
    "    mbrl = ModelBasedRL(env=env,\n",
    "                        render=args.render,\n",
    "                        mpc_horizon=args.mpc_horizon,\n",
    "                        num_random_action_selection=args.num_random_action_selection,\n",
    "                        nn_layers=args.nn_layers,\n",
    "                        scope='scope-' + str(np.random.rand()))\n",
    "    print('2 tabular:', logger._tabular, ', recorded:', logger._curr_recorded)\n",
    "    print('3 tabular:', model_logger._tabular, ', recorded:', model_logger._curr_recorded)\n",
    "\n",
    "    run_func = {\n",
    "        'q1': mbrl.run_q1,\n",
    "        'q2': mbrl.run_q2,\n",
    "        'q3': mbrl.run_q3\n",
    "    }[args.question]\n",
    "    \n",
    "    \n",
    "    model_logger._tabular = defaultdict(list)\n",
    "    model_logger._curr_recorded.clear()\n",
    "    model_logger._num_dump_tabular_calls = 0\n",
    "    \n",
    "    run_func()\n",
    "    \n"
   ]
  },
  {
   "cell_type": "markdown",
   "metadata": {},
   "source": [
    "## Q1\n"
   ]
  },
  {
   "cell_type": "code",
   "execution_count": null,
   "metadata": {},
   "outputs": [],
   "source": [
    "%tb\n",
    "\n",
    "g = tf.Graph()\n",
    "with tf.Session() as sess, g.as_default() :\n",
    "    sys.argv = 'python main.py q1 --exp_name exp'.split()[1:]\n",
    "    print('starts running at', dt.datetime.now())\n",
    "    run_mbrl()\n",
    "    print('finished running at', dt.datetime.now())\n",
    "\n"
   ]
  },
  {
   "cell_type": "markdown",
   "metadata": {},
   "source": [
    "## Q2\n",
    "\n",
    "* RandomPolicy should return ReturnAverage around -160\n",
    "* Trained Policy should return ReturnAverage around 0\n"
   ]
  },
  {
   "cell_type": "code",
   "execution_count": null,
   "metadata": {},
   "outputs": [],
   "source": [
    "%tb\n",
    "\n",
    "g = tf.Graph()\n",
    "with tf.Session() as sess, g.as_default() :\n",
    "    sys.argv = 'python main.py q2 --exp_name exp'.split()[1:]\n",
    "    print('starts running at', dt.datetime.now())\n",
    "    run_mbrl()\n",
    "    print('finished running at', dt.datetime.now())\n",
    "\n"
   ]
  },
  {
   "cell_type": "markdown",
   "metadata": {},
   "source": [
    "## Q3a\n",
    "\n",
    "* RandomPolicy should return ReturnAverage around -160\n",
    "* Trained Policy should return ReturnAverage around 300 by the 10th iteration\n"
   ]
  },
  {
   "cell_type": "code",
   "execution_count": null,
   "metadata": {},
   "outputs": [],
   "source": [
    "%tb\n",
    "\n",
    "g = tf.Graph()\n",
    "with tf.Session() as sess, g.as_default() :\n",
    "    sys.argv = 'python main.py q3 --exp_name default'.split()[1:]\n",
    "    print('starts running at', dt.datetime.now())\n",
    "    run_mbrl()\n",
    "    print('finished running at', dt.datetime.now())\n",
    "\n"
   ]
  },
  {
   "cell_type": "code",
   "execution_count": null,
   "metadata": {},
   "outputs": [],
   "source": [
    "import plot\n",
    "%matplotlib inline\n",
    "\n",
    "cmd = 'python plot.py --exps HalfCheetah_q3_default --save HalfCheetah_q3_default'\n",
    "sys.argv = cmd.split()[1:]\n",
    "\n",
    "print('starts plot ', sys.argv, ' at', dt.datetime.now())\n",
    "plot.main()\n",
    "print('finished plot ', sys.argv, ' at', dt.datetime.now())"
   ]
  },
  {
   "cell_type": "markdown",
   "metadata": {},
   "source": [
    "## Q3b"
   ]
  },
  {
   "cell_type": "code",
   "execution_count": null,
   "metadata": {},
   "outputs": [],
   "source": [
    "%tb\n",
    "\n",
    "cmd_list = [\n",
    "    'python main.py q3 --exp_name action128 --num_random_action_selection 128',\n",
    "    'python main.py q3 --exp_name action4096 --num_random_action_selection 4096',\n",
    "    'python main.py q3 --exp_name action16384 --num_random_action_selection 16384',\n",
    "    'python main.py q3 --exp_name horizon10 --mpc_horizon 10',\n",
    "    'python main.py q3 --exp_name horizon15 --mpc_horizon 15',\n",
    "    'python main.py q3 --exp_name horizon20 --mpc_horizon 20',\n",
    "    'python main.py q3 --exp_name layers1 --nn_layers 1',\n",
    "    'python main.py q3 --exp_name layers2 --nn_layers 2',\n",
    "    'python main.py q3 --exp_name layers3 --nn_layers 3',    \n",
    "    ]\n",
    "\n",
    "for cmd in cmd_list :\n",
    "    g = tf.Graph()\n",
    "    with tf.Session() as sess, g.as_default() :\n",
    "        sys.argv = cmd.split()[1:]\n",
    "        print('starts running at', dt.datetime.now())\n",
    "        run_mbrl()\n",
    "        print('finished running at', dt.datetime.now())\n"
   ]
  },
  {
   "cell_type": "code",
   "execution_count": null,
   "metadata": {},
   "outputs": [],
   "source": [
    "import plot\n",
    "%matplotlib inline\n",
    "\n",
    "cmd_list = [\n",
    "    'python plot.py --exps HalfCheetah_q3_action128 HalfCheetah_q3_action4096 HalfCheetah_q3_action16384 --save HalfCheetah_q3_actions',\n",
    "    'python plot.py --exps HalfCheetah_q3_horizon10 HalfCheetah_q3_horizon15 HalfCheetah_q3_horizon20 --save HalfCheetah_q3_mpc_horizon',\n",
    "    'python plot.py --exps HalfCheetah_q3_layers1 HalfCheetah_q3_layers2 HalfCheetah_q3_layers3 --save HalfCheetah_q3_nn_layers',    \n",
    "    ]\n",
    "\n",
    "for cmd in cmd_list :\n",
    "    sys.argv = cmd.split()[1:]\n",
    "    print('starts plot ', sys.argv, ' at', dt.datetime.now())\n",
    "    plot.main()\n",
    "    print('finished plot ', sys.argv, ' at', dt.datetime.now())"
   ]
  }
 ],
 "metadata": {
  "kernelspec": {
   "display_name": "vhw4",
   "language": "python",
   "name": "vhw4"
  },
  "language_info": {
   "codemirror_mode": {
    "name": "ipython",
    "version": 3
   },
   "file_extension": ".py",
   "mimetype": "text/x-python",
   "name": "python",
   "nbconvert_exporter": "python",
   "pygments_lexer": "ipython3",
   "version": "3.7.3"
  }
 },
 "nbformat": 4,
 "nbformat_minor": 2
}
